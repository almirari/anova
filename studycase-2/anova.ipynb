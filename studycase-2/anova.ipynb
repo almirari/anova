{
 "cells": [
  {
   "cell_type": "code",
   "execution_count": 57,
   "id": "d6025527",
   "metadata": {},
   "outputs": [],
   "source": [
    "import pandas as pd\n",
    "import statsmodels.api as sm\n",
    "from statsmodels.formula.api import ols\n",
    "from statsmodels.stats.anova import anova_lm\n",
    "from statsmodels.graphics.factorplots import interaction_plot\n",
    "import matplotlib.pyplot as plt\n",
    "from scipy import stats"
   ]
  },
  {
   "cell_type": "code",
   "execution_count": 58,
   "id": "0197a186",
   "metadata": {},
   "outputs": [],
   "source": [
    "datafile = \"ToothGrowth.csv\"\n",
    "data = pd.read_csv(datafile)"
   ]
  },
  {
   "cell_type": "markdown",
   "id": "1bb58d23",
   "metadata": {},
   "source": [
    "### Calculation of Sum of Squares\n",
    "Perhitungan **jumlah kuadrat (sum of squares)** atau **variasi dalam data** sebenarnya cukup sederhana jika menggunakan Python. Pertama, kita mulai dengan mendapatkan **ukuran sampel (N)** dan **derajat kebebasan (degree of freedom)** yang diperlukan. Nilai-nilai ini akan kita gunakan nanti untuk menghitung **mean square** (rata-rata kuadrat). Setelah kita memiliki derajat kebebasan, kita dapat melanjutkan dengan perhitungan **jumlah kuadrat (sum of square)**."
   ]
  },
  {
   "cell_type": "markdown",
   "id": "24e9c5f8",
   "metadata": {},
   "source": [
    "### Degree of Freedom"
   ]
  },
  {
   "cell_type": "code",
   "execution_count": 59,
   "id": "e2b417d2",
   "metadata": {},
   "outputs": [
    {
     "name": "stdout",
     "output_type": "stream",
     "text": [
      "N = 60\n",
      "df_a = 1\n",
      "df_b = 2\n",
      "df_axb = 2\n",
      "df_w = 54\n"
     ]
    }
   ],
   "source": [
    "N = len(data.len)\n",
    "df_a = len(data.supp.unique()) - 1\n",
    "df_b = len(data.dose.unique()) - 1\n",
    "df_axb = df_a*df_b \n",
    "df_w = N - (len(data.supp.unique())*len(data.dose.unique()))\n",
    "\n",
    "print(f\"N = {N}\")\n",
    "print(f\"df_a = {df_a}\")\n",
    "print(f\"df_b = {df_b}\")\n",
    "print(f\"df_axb = {df_axb}\")\n",
    "print(f\"df_w = {df_w}\")"
   ]
  },
  {
   "cell_type": "markdown",
   "id": "ccda65dc",
   "metadata": {},
   "source": [
    "### Sum of Squares\n",
    "Untuk perhitungan **jumlah kuadrat A, B, dan Total**, kita perlu memiliki **grand mean** (rata-rata keseluruhan). Dengan menggunakan metode `mean` dari **Pandas DataFrame** pada **variabel dependen saja**, kita akan mendapatkan **grand mean** tersebut."
   ]
  },
  {
   "cell_type": "code",
   "execution_count": 60,
   "id": "ae72e32f",
   "metadata": {},
   "outputs": [
    {
     "name": "stdout",
     "output_type": "stream",
     "text": [
      "grand mean = 18.813333333333336\n"
     ]
    }
   ],
   "source": [
    "grand_mean = data['len'].mean()\n",
    "print(f\"grand mean = {grand_mean}\")"
   ]
  },
  {
   "cell_type": "markdown",
   "id": "0d77222f",
   "metadata": {},
   "source": [
    "### Sum of Squares A – supp\n",
    "Menghitung Sum of Squares dari faktor A (supp)."
   ]
  },
  {
   "cell_type": "code",
   "execution_count": 61,
   "id": "ce74fed7",
   "metadata": {},
   "outputs": [
    {
     "name": "stdout",
     "output_type": "stream",
     "text": [
      "ssq_a = 205.35000000000008\n"
     ]
    }
   ],
   "source": [
    "ssq_a = sum([(data[data.supp ==l].len.mean()-grand_mean)**2 for l in data.supp])\n",
    "print(f\"ssq_a = {ssq_a}\")"
   ]
  },
  {
   "cell_type": "markdown",
   "id": "65295bf6",
   "metadata": {},
   "source": [
    "### Sum of Squares B – dose\n",
    "Menghitung Sum of Squares dari faktor B (dose)."
   ]
  },
  {
   "cell_type": "code",
   "execution_count": 62,
   "id": "93d325e1",
   "metadata": {},
   "outputs": [
    {
     "name": "stdout",
     "output_type": "stream",
     "text": [
      "ssq_b = 2426.4343333333336\n"
     ]
    }
   ],
   "source": [
    "ssq_b = sum([(data[data.dose ==l].len.mean()-grand_mean)**2 for l in data.dose])\n",
    "print(f\"ssq_b = {ssq_b}\")"
   ]
  },
  {
   "cell_type": "markdown",
   "id": "c67d566e",
   "metadata": {},
   "source": [
    "### Sum of Squares Total"
   ]
  },
  {
   "cell_type": "code",
   "execution_count": 63,
   "id": "cd1ec37a",
   "metadata": {},
   "outputs": [
    {
     "name": "stdout",
     "output_type": "stream",
     "text": [
      "ssq_total = 3452.2093333333332\n"
     ]
    }
   ],
   "source": [
    "ssq_t = sum((data.len - grand_mean)**2)\n",
    "print(f\"ssq_total = {ssq_t}\")"
   ]
  },
  {
   "cell_type": "markdown",
   "id": "a75253d0",
   "metadata": {},
   "source": [
    "### Sum of Squares Within (error/residual)\n",
    "Selanjutnya, kita perlu menghitung Sum of Squares Within yang terkadang disebut juga sebagai error atau residual."
   ]
  },
  {
   "cell_type": "code",
   "execution_count": 64,
   "id": "46185081",
   "metadata": {},
   "outputs": [],
   "source": [
    "vc = data[data.supp == 'VC']\n",
    "oj = data[data.supp == 'OJ']\n",
    "vc_dose_means = [vc[vc.dose == d].len.mean() for d in vc.dose]\n",
    "oj_dose_means = [oj[oj.dose == d].len.mean() for d in oj.dose]"
   ]
  },
  {
   "cell_type": "code",
   "execution_count": 65,
   "id": "217966e3",
   "metadata": {},
   "outputs": [],
   "source": [
    "ssq_w = sum(((oj.len - oj_dose_means)**2) + sum((vc.len - vc_dose_means)**2))"
   ]
  },
  {
   "cell_type": "markdown",
   "id": "1b1af8ba",
   "metadata": {},
   "source": [
    "### Sum of Squares interaction\n",
    "Karena kita menggunakan two-way, maka kita perlu menghitung Sum of Square dari interaksi A dan B"
   ]
  },
  {
   "cell_type": "code",
   "execution_count": 66,
   "id": "5227cf91",
   "metadata": {},
   "outputs": [],
   "source": [
    "ssq_axb = ssq_t-ssq_a-ssq_b-ssq_w"
   ]
  },
  {
   "cell_type": "markdown",
   "id": "e283a836",
   "metadata": {},
   "source": [
    "### Mean Squares\n",
    "Kita kemudian melanjutkkan dengan menghitung Mean Square dari masing masing faktor, interaksi antar faktor, dan error/residu (within)."
   ]
  },
  {
   "cell_type": "code",
   "execution_count": 67,
   "id": "b552b750",
   "metadata": {},
   "outputs": [],
   "source": [
    "# Mean Square A\n",
    "ms_a = ssq_a/df_a\n",
    "\n",
    "# Mean Square B\n",
    "ms_b = ssq_b/df_b\n",
    "\n",
    "# Mean Square AxB\n",
    "ms_axb = ssq_axb/df_axb\n",
    "\n",
    "# Mean Square Within/Error/Residual\n",
    "ms_w = ssq_w/df_w"
   ]
  },
  {
   "cell_type": "markdown",
   "id": "fa9003f9",
   "metadata": {},
   "source": [
    "### F-ratio\n",
    "Nilai **F-statistic** diperoleh dengan membagi **mean square** dari masing-masing efek dan interaksi dengan **mean square dalam kelompok (within)**, yang juga disebut sebagai **error** atau **residual**.\n"
   ]
  },
  {
   "cell_type": "code",
   "execution_count": 68,
   "id": "e401de35",
   "metadata": {},
   "outputs": [],
   "source": [
    "# F-ratio A\n",
    "f_a = ms_a/ms_w\n",
    "# F-ratio B\n",
    "f_b = ms_b/ms_w\n",
    "# F-ratio AxB\n",
    "f_axb = ms_axb/ms_w"
   ]
  },
  {
   "cell_type": "markdown",
   "id": "babcf15c",
   "metadata": {},
   "source": [
    "### p-value\n",
    "Kita dapat menggunakan metode `f.sf` dari **scipy.stats** untuk memeriksa apakah **nilai F** yang kita peroleh berada di atas **nilai kritis**. Untuk melakukannya, kita perlu menggunakan **nilai F** dari setiap efek dan interaksi, serta **derajat kebebasan (degree of freedom)** untuk masing-masing efek tersebut, dan juga derajat kebebasan **dalam kelompok (within)**.\n"
   ]
  },
  {
   "cell_type": "code",
   "execution_count": 69,
   "id": "028c8c4e",
   "metadata": {},
   "outputs": [],
   "source": [
    "p_a = stats.f.sf(f_a, df_a, df_w)\n",
    "p_b = stats.f.sf(f_b, df_b, df_w)\n",
    "p_axb = stats.f.sf(f_axb, df_axb, df_w)"
   ]
  },
  {
   "cell_type": "markdown",
   "id": "0fe89eda",
   "metadata": {},
   "source": [
    "Saat ini, hasil perhitungan disimpan dalam banyak variabel. Untuk mendapatkan hasil yang **lebih mudah dibaca**, kita bisa membuat sebuah **DataFrame** yang akan memuat **tabel ANOVA** kita."
   ]
  },
  {
   "cell_type": "code",
   "execution_count": 70,
   "id": "58ef2d9c",
   "metadata": {},
   "outputs": [],
   "source": [
    "results = {'sum_sq':[ssq_a, ssq_b, ssq_axb, ssq_w],\n",
    "           'df':[df_a, df_b, df_axb, df_w],\n",
    "           'F':[f_a, f_b, f_axb, 'NaN'],\n",
    "            'PR(&gt;F)':[p_a, p_b, p_axb, 'NaN']}\n",
    "columns=['sum_sq', 'df', 'F', 'PR(&gt;F)']\n",
    "aov_table1 = pd.DataFrame(results, columns=columns,\n",
    "                          index=['supp', 'dose', \n",
    "                          'supp:dose', 'Residual'])"
   ]
  },
  {
   "cell_type": "code",
   "execution_count": 71,
   "id": "cdeb88ad",
   "metadata": {},
   "outputs": [
    {
     "data": {
      "text/html": [
       "<div>\n",
       "<style scoped>\n",
       "    .dataframe tbody tr th:only-of-type {\n",
       "        vertical-align: middle;\n",
       "    }\n",
       "\n",
       "    .dataframe tbody tr th {\n",
       "        vertical-align: top;\n",
       "    }\n",
       "\n",
       "    .dataframe thead th {\n",
       "        text-align: right;\n",
       "    }\n",
       "</style>\n",
       "<table border=\"1\" class=\"dataframe\">\n",
       "  <thead>\n",
       "    <tr style=\"text-align: right;\">\n",
       "      <th></th>\n",
       "      <th>sum_sq</th>\n",
       "      <th>df</th>\n",
       "      <th>F</th>\n",
       "      <th>PR(&amp;gt;F)</th>\n",
       "      <th>eta_sq</th>\n",
       "      <th>omega_sq</th>\n",
       "    </tr>\n",
       "  </thead>\n",
       "  <tbody>\n",
       "    <tr>\n",
       "      <th>supp</th>\n",
       "      <td>205.350000</td>\n",
       "      <td>1</td>\n",
       "      <td>1.072413</td>\n",
       "      <td>0.305016</td>\n",
       "      <td>0.059484</td>\n",
       "      <td>0.003805</td>\n",
       "    </tr>\n",
       "    <tr>\n",
       "      <th>dose</th>\n",
       "      <td>2426.434333</td>\n",
       "      <td>2</td>\n",
       "      <td>6.335868</td>\n",
       "      <td>0.003374</td>\n",
       "      <td>0.702864</td>\n",
       "      <td>0.560823</td>\n",
       "    </tr>\n",
       "    <tr>\n",
       "      <th>supp:dose</th>\n",
       "      <td>-9519.710000</td>\n",
       "      <td>2</td>\n",
       "      <td>-24.857719</td>\n",
       "      <td>1.0</td>\n",
       "      <td>-2.757570</td>\n",
       "      <td>-2.717758</td>\n",
       "    </tr>\n",
       "    <tr>\n",
       "      <th>Residual</th>\n",
       "      <td>10340.135000</td>\n",
       "      <td>54</td>\n",
       "      <td>NaN</td>\n",
       "      <td>NaN</td>\n",
       "      <td>NaN</td>\n",
       "      <td>NaN</td>\n",
       "    </tr>\n",
       "  </tbody>\n",
       "</table>\n",
       "</div>"
      ],
      "text/plain": [
       "                 sum_sq  df          F PR(&gt;F)    eta_sq  omega_sq\n",
       "supp         205.350000   1   1.072413  0.305016  0.059484  0.003805\n",
       "dose        2426.434333   2   6.335868  0.003374  0.702864  0.560823\n",
       "supp:dose  -9519.710000   2 -24.857719       1.0 -2.757570 -2.717758\n",
       "Residual   10340.135000  54        NaN       NaN       NaN       NaN"
      ]
     },
     "execution_count": 71,
     "metadata": {},
     "output_type": "execute_result"
    }
   ],
   "source": [
    "def eta_squared(aov):\n",
    "    aov['eta_sq'] = 'NaN'\n",
    "    aov['eta_sq'] = aov[:-1]['sum_sq']/sum(aov['sum_sq'])\n",
    "    return aov\n",
    "def omega_squared(aov):\n",
    "    mse = aov['sum_sq'].iloc[-1] / aov['df'].iloc[-1]\n",
    "    aov['omega_sq'] = 'NaN'\n",
    "    aov['omega_sq'] = (aov[:-1]['sum_sq']-(aov[:-1]['df']*mse))/(sum(aov['sum_sq'])+mse)\n",
    "    return aov\n",
    "eta_squared(aov_table1)\n",
    "omega_squared(aov_table1)\n",
    "aov_table1"
   ]
  },
  {
   "cell_type": "markdown",
   "id": "1119f727",
   "metadata": {},
   "source": [
    "### KESIMPULAN\n",
    "\n",
    "1. supp (Jenis Suplemen):\n",
    "* F = 1.072, p = 0.305 ⟶ Tidak signifikan.\n",
    "* Kesimpulan: Jenis suplemen tidak memiliki pengaruh signifikan terhadap hasil.\n",
    "* Eta Squared 0.059 ⟶ Sekitar 5.9% variasi dijelaskan oleh jenis suplemen.\n",
    "* Omega Squared 0.0038 ⟶ Efek sebenarnya sangat kecil, hampir nol.\n",
    "\n",
    "2. dose (Dosis):\n",
    "* F = 6.336, p = 0.00337 ⟶ Signifikan (karena p < 0.05).\n",
    "* Kesimpulan: Dosis memiliki pengaruh signifikan terhadap variabel dependen.\n",
    "* Eta Squared 0.70 ⟶ Sekitar 70% variasi dijelaskan oleh dosis.\n",
    "* Omega Squared 0.56 ⟶ Efek sebenarnya masih besar, meskipun lebih konservatif."
   ]
  }
 ],
 "metadata": {
  "kernelspec": {
   "display_name": "Python 3",
   "language": "python",
   "name": "python3"
  },
  "language_info": {
   "codemirror_mode": {
    "name": "ipython",
    "version": 3
   },
   "file_extension": ".py",
   "mimetype": "text/x-python",
   "name": "python",
   "nbconvert_exporter": "python",
   "pygments_lexer": "ipython3",
   "version": "3.12.3"
  }
 },
 "nbformat": 4,
 "nbformat_minor": 5
}
