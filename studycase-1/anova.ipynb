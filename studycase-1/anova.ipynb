{
 "cells": [
  {
   "cell_type": "markdown",
   "id": "8507d43d",
   "metadata": {},
   "source": [
    "Analisis Varians (ANOVA) pada Kadar Tembaga (Copper) Berdasarkan Status Pasien Sirosis\n",
    "Analisis ini bertujuan untuk mengetahui apakah terdapat perbedaan rata-rata kadar tembaga (Copper) di dalam serum berdasarkan status pasien sirosis. Status pasien dikategorikan menjadi tiga kelompok:\n",
    "\n",
    "- C: Censored (pasien masih hidup saat penelitian berakhir)\n",
    "- CL: Censored due to liver transplantation (pasien melakukan transplantasi hati)\n",
    "- D: Death (pasien meninggal)"
   ]
  },
  {
   "cell_type": "code",
   "execution_count": 73,
   "id": "81e05d3b",
   "metadata": {},
   "outputs": [
    {
     "name": "stdout",
     "output_type": "stream",
     "text": [
      "Dataset URL: https://www.kaggle.com/datasets/joebeachcapital/cirrhosis-patient-survival-prediction\n"
     ]
    }
   ],
   "source": [
    "import kaggle\n",
    "\n",
    "kaggle.api.authenticate()\n",
    "kaggle.api.dataset_download_files('joebeachcapital/cirrhosis-patient-survival-prediction', path='.', unzip=True)"
   ]
  },
  {
   "cell_type": "markdown",
   "id": "bb239596",
   "metadata": {},
   "source": [
    "### Variables Table\n",
    "\n",
    "| Variable Name  | Role     | Type        | Demographic | Description                                                                                                                                       | Units     | Missing Values |\n",
    "|----------------|----------|-------------|-------------|---------------------------------------------------------------------------------------------------------------------------------------------------|-----------|----------------|\n",
    "| ID             | ID       | Integer     |             | Unique identifier                                                                                                                                 |           | no             |\n",
    "| N_Days         | Other    | Integer     |             | Number of days between registration and the earlier of death, transplantation, or study analysis time in July 1986                               |           | no             |\n",
    "| Status         | Target   | Categorical |             | Status of the patient: C (censored), CL (censored due to liver tx), or D (death)                                                                 |           | no             |\n",
    "| Drug           | Feature  | Categorical |             | Type of drug: D-penicillamine or placebo                                                                                                          |           | yes            |\n",
    "| Age            | Feature  | Integer     | Age         | Age                                                                                                                                               | days      | no             |\n",
    "| Sex            | Feature  | Categorical | Sex         | M (male) or F (female)                                                                                                                            |           | no             |\n",
    "| Ascites        | Feature  | Categorical |             | Presence of ascites: N (No) or Y (Yes)                                                                                                            |           | yes            |\n",
    "| Hepatomegaly   | Feature  | Categorical |             | Presence of hepatomegaly: N (No) or Y (Yes)                                                                                                       |           | yes            |\n",
    "| Spiders        | Feature  | Categorical |             | Presence of spiders: N (No) or Y (Yes)                                                                                                            |           | yes            |\n",
    "| Edema          | Feature  | Categorical |             | Presence of edema: N (no edema and no diuretic therapy), S (edema without diuretics or resolved by them), Y (edema despite diuretics)            |           | no             |\n",
    "| Copper      | Feature  | Continuous  |             | Serum Copper                                                                                                                                   | mg/dl     | no             |\n",
    "| Copper    | Feature  | Integer     |             | Serum Copper                                                                                                                                 | mg/dl     | yes            |\n",
    "| Copper        | Feature  | Continuous  |             | Copper                                                                                                                                            | gm/dl     | no             |\n",
    "| Copper         | Feature  | Integer     |             | Urine copper                                                                                                                                      | ug/day    | yes            |\n",
    "| Alk_Phos       | Feature  | Continuous  |             | Alkaline phosphatase                                                                                                                              | U/liter   | yes            |\n",
    "| SGOT           | Feature  | Continuous  |             | SGOT                                                                                                                                              | U/ml      | yes            |\n",
    "| Tryglicerides  | Feature  | Integer     |             | Tryglicerides                                                                                                                                     |           | yes            |\n",
    "| Platelets      | Feature  | Integer     |             | Platelets per cubic                                                                                                                               | ml/1000   | yes            |\n",
    "| Prothrombin    | Feature  | Continuous  |             | Prothrombin time                                                                                                                                  | s         | yes            |\n",
    "| Stage          | Feature  | Categorical |             | Histologic stage of disease (1, 2, 3, or 4)                                                                                                       |           | yes            |"
   ]
  },
  {
   "cell_type": "code",
   "execution_count": 74,
   "id": "dfeab5f4",
   "metadata": {},
   "outputs": [],
   "source": [
    "import pandas as pd\n",
    "import numpy as np\n",
    "import matplotlib.pyplot as plt\n",
    "from scipy.stats import levene\n",
    "from scipy import stats\n",
    "from scipy.stats import f_oneway\n",
    "from statsmodels.stats.multicomp import pairwise_tukeyhsd\n",
    "from statsmodels.graphics.gofplots import qqplot"
   ]
  },
  {
   "cell_type": "code",
   "execution_count": 75,
   "id": "f5af306d",
   "metadata": {},
   "outputs": [
    {
     "data": {
      "text/html": [
       "<div>\n",
       "<style scoped>\n",
       "    .dataframe tbody tr th:only-of-type {\n",
       "        vertical-align: middle;\n",
       "    }\n",
       "\n",
       "    .dataframe tbody tr th {\n",
       "        vertical-align: top;\n",
       "    }\n",
       "\n",
       "    .dataframe thead th {\n",
       "        text-align: right;\n",
       "    }\n",
       "</style>\n",
       "<table border=\"1\" class=\"dataframe\">\n",
       "  <thead>\n",
       "    <tr style=\"text-align: right;\">\n",
       "      <th></th>\n",
       "      <th>ID</th>\n",
       "      <th>N_Days</th>\n",
       "      <th>Status</th>\n",
       "      <th>Drug</th>\n",
       "      <th>Age</th>\n",
       "      <th>Sex</th>\n",
       "      <th>Ascites</th>\n",
       "      <th>Hepatomegaly</th>\n",
       "      <th>Spiders</th>\n",
       "      <th>Edema</th>\n",
       "      <th>Bilirubin</th>\n",
       "      <th>Cholesterol</th>\n",
       "      <th>Albumin</th>\n",
       "      <th>Copper</th>\n",
       "      <th>Alk_Phos</th>\n",
       "      <th>SGOT</th>\n",
       "      <th>Tryglicerides</th>\n",
       "      <th>Platelets</th>\n",
       "      <th>Prothrombin</th>\n",
       "      <th>Stage</th>\n",
       "    </tr>\n",
       "  </thead>\n",
       "  <tbody>\n",
       "    <tr>\n",
       "      <th>0</th>\n",
       "      <td>1</td>\n",
       "      <td>400</td>\n",
       "      <td>D</td>\n",
       "      <td>D-penicillamine</td>\n",
       "      <td>21464</td>\n",
       "      <td>F</td>\n",
       "      <td>Y</td>\n",
       "      <td>Y</td>\n",
       "      <td>Y</td>\n",
       "      <td>Y</td>\n",
       "      <td>14.5</td>\n",
       "      <td>261.0</td>\n",
       "      <td>2.60</td>\n",
       "      <td>156.0</td>\n",
       "      <td>1718.0</td>\n",
       "      <td>137.95</td>\n",
       "      <td>172.0</td>\n",
       "      <td>190.0</td>\n",
       "      <td>12.2</td>\n",
       "      <td>4.0</td>\n",
       "    </tr>\n",
       "    <tr>\n",
       "      <th>1</th>\n",
       "      <td>2</td>\n",
       "      <td>4500</td>\n",
       "      <td>C</td>\n",
       "      <td>D-penicillamine</td>\n",
       "      <td>20617</td>\n",
       "      <td>F</td>\n",
       "      <td>N</td>\n",
       "      <td>Y</td>\n",
       "      <td>Y</td>\n",
       "      <td>N</td>\n",
       "      <td>1.1</td>\n",
       "      <td>302.0</td>\n",
       "      <td>4.14</td>\n",
       "      <td>54.0</td>\n",
       "      <td>7394.8</td>\n",
       "      <td>113.52</td>\n",
       "      <td>88.0</td>\n",
       "      <td>221.0</td>\n",
       "      <td>10.6</td>\n",
       "      <td>3.0</td>\n",
       "    </tr>\n",
       "    <tr>\n",
       "      <th>2</th>\n",
       "      <td>3</td>\n",
       "      <td>1012</td>\n",
       "      <td>D</td>\n",
       "      <td>D-penicillamine</td>\n",
       "      <td>25594</td>\n",
       "      <td>M</td>\n",
       "      <td>N</td>\n",
       "      <td>N</td>\n",
       "      <td>N</td>\n",
       "      <td>S</td>\n",
       "      <td>1.4</td>\n",
       "      <td>176.0</td>\n",
       "      <td>3.48</td>\n",
       "      <td>210.0</td>\n",
       "      <td>516.0</td>\n",
       "      <td>96.10</td>\n",
       "      <td>55.0</td>\n",
       "      <td>151.0</td>\n",
       "      <td>12.0</td>\n",
       "      <td>4.0</td>\n",
       "    </tr>\n",
       "    <tr>\n",
       "      <th>3</th>\n",
       "      <td>4</td>\n",
       "      <td>1925</td>\n",
       "      <td>D</td>\n",
       "      <td>D-penicillamine</td>\n",
       "      <td>19994</td>\n",
       "      <td>F</td>\n",
       "      <td>N</td>\n",
       "      <td>Y</td>\n",
       "      <td>Y</td>\n",
       "      <td>S</td>\n",
       "      <td>1.8</td>\n",
       "      <td>244.0</td>\n",
       "      <td>2.54</td>\n",
       "      <td>64.0</td>\n",
       "      <td>6121.8</td>\n",
       "      <td>60.63</td>\n",
       "      <td>92.0</td>\n",
       "      <td>183.0</td>\n",
       "      <td>10.3</td>\n",
       "      <td>4.0</td>\n",
       "    </tr>\n",
       "    <tr>\n",
       "      <th>4</th>\n",
       "      <td>5</td>\n",
       "      <td>1504</td>\n",
       "      <td>CL</td>\n",
       "      <td>Placebo</td>\n",
       "      <td>13918</td>\n",
       "      <td>F</td>\n",
       "      <td>N</td>\n",
       "      <td>Y</td>\n",
       "      <td>Y</td>\n",
       "      <td>N</td>\n",
       "      <td>3.4</td>\n",
       "      <td>279.0</td>\n",
       "      <td>3.53</td>\n",
       "      <td>143.0</td>\n",
       "      <td>671.0</td>\n",
       "      <td>113.15</td>\n",
       "      <td>72.0</td>\n",
       "      <td>136.0</td>\n",
       "      <td>10.9</td>\n",
       "      <td>3.0</td>\n",
       "    </tr>\n",
       "  </tbody>\n",
       "</table>\n",
       "</div>"
      ],
      "text/plain": [
       "   ID  N_Days Status             Drug    Age Sex Ascites Hepatomegaly Spiders  \\\n",
       "0   1     400      D  D-penicillamine  21464   F       Y            Y       Y   \n",
       "1   2    4500      C  D-penicillamine  20617   F       N            Y       Y   \n",
       "2   3    1012      D  D-penicillamine  25594   M       N            N       N   \n",
       "3   4    1925      D  D-penicillamine  19994   F       N            Y       Y   \n",
       "4   5    1504     CL          Placebo  13918   F       N            Y       Y   \n",
       "\n",
       "  Edema  Bilirubin  Cholesterol  Albumin  Copper  Alk_Phos    SGOT  \\\n",
       "0     Y       14.5        261.0     2.60   156.0    1718.0  137.95   \n",
       "1     N        1.1        302.0     4.14    54.0    7394.8  113.52   \n",
       "2     S        1.4        176.0     3.48   210.0     516.0   96.10   \n",
       "3     S        1.8        244.0     2.54    64.0    6121.8   60.63   \n",
       "4     N        3.4        279.0     3.53   143.0     671.0  113.15   \n",
       "\n",
       "   Tryglicerides  Platelets  Prothrombin  Stage  \n",
       "0          172.0      190.0         12.2    4.0  \n",
       "1           88.0      221.0         10.6    3.0  \n",
       "2           55.0      151.0         12.0    4.0  \n",
       "3           92.0      183.0         10.3    4.0  \n",
       "4           72.0      136.0         10.9    3.0  "
      ]
     },
     "execution_count": 75,
     "metadata": {},
     "output_type": "execute_result"
    }
   ],
   "source": [
    "data = pd.read_csv('cirrhosis.csv', sep=',')\n",
    "data.head()"
   ]
  },
  {
   "cell_type": "markdown",
   "id": "87acbc9a",
   "metadata": {},
   "source": [
    "Analisis difokuskan pada variabel Copper (kadar tembaga serum) dan Status (status akhir pasien)."
   ]
  },
  {
   "cell_type": "code",
   "execution_count": 79,
   "id": "9cf41c6b",
   "metadata": {},
   "outputs": [
    {
     "data": {
      "text/plain": [
       "array(['D', 'C', 'CL'], dtype=object)"
      ]
     },
     "execution_count": 79,
     "metadata": {},
     "output_type": "execute_result"
    }
   ],
   "source": [
    "df = data[['Status','Copper']]\n",
    "df = df.dropna(subset=['Status','Copper'])\n",
    "category = df.Status.unique()\n",
    "category"
   ]
  },
  {
   "cell_type": "markdown",
   "id": "7f711e35",
   "metadata": {},
   "source": [
    "Sebelum melakukan uji ANOVA, beberapa asumsi harus dipenuhi. Salah satu asumsi utama adalah homogenitas varians, yang berarti varians (keragaman data) pada setiap kelompok harus serupa.\n",
    "\n",
    "Hipotesis nol (yang menyatakan varians homogen) ditolak. Ini berarti varians data antar kelompok tidak homogen, sehingga asumsi ANOVA tidak terpenuhi."
   ]
  },
  {
   "cell_type": "code",
   "execution_count": 80,
   "id": "78b18ec0",
   "metadata": {},
   "outputs": [
    {
     "name": "stdout",
     "output_type": "stream",
     "text": [
      "Levene's test statistic: 13.418344460772083\n",
      "p-value: 2.5897734172226775e-06\n",
      "Reject the null hypothesis: Variances are not homogeneous between groups.\n"
     ]
    }
   ],
   "source": [
    "# Levene's test\n",
    "statistic, p_value = levene(*[df.Copper[df.Status == cat] for cat in category])\n",
    "print(\"Levene's test statistic:\", statistic)\n",
    "print(\"p-value:\", p_value)\n",
    "\n",
    "alpha = 0.05\n",
    "if p_value < alpha:\n",
    "    print(\"Reject the null hypothesis: Variances are not homogeneous between groups.\")\n",
    "else:\n",
    "    print(\"Fail to reject the null hypothesis: Variances are homogeneous between groups.\")"
   ]
  },
  {
   "cell_type": "code",
   "execution_count": 81,
   "id": "6217369f",
   "metadata": {},
   "outputs": [
    {
     "data": {
      "text/html": [
       "<div>\n",
       "<style scoped>\n",
       "    .dataframe tbody tr th:only-of-type {\n",
       "        vertical-align: middle;\n",
       "    }\n",
       "\n",
       "    .dataframe tbody tr th {\n",
       "        vertical-align: top;\n",
       "    }\n",
       "\n",
       "    .dataframe thead th {\n",
       "        text-align: right;\n",
       "    }\n",
       "</style>\n",
       "<table border=\"1\" class=\"dataframe\">\n",
       "  <thead>\n",
       "    <tr style=\"text-align: right;\">\n",
       "      <th></th>\n",
       "      <th>Status</th>\n",
       "      <th>Copper</th>\n",
       "    </tr>\n",
       "  </thead>\n",
       "  <tbody>\n",
       "    <tr>\n",
       "      <th>0</th>\n",
       "      <td>D</td>\n",
       "      <td>156.0</td>\n",
       "    </tr>\n",
       "    <tr>\n",
       "      <th>1</th>\n",
       "      <td>C</td>\n",
       "      <td>54.0</td>\n",
       "    </tr>\n",
       "    <tr>\n",
       "      <th>2</th>\n",
       "      <td>D</td>\n",
       "      <td>210.0</td>\n",
       "    </tr>\n",
       "    <tr>\n",
       "      <th>3</th>\n",
       "      <td>D</td>\n",
       "      <td>64.0</td>\n",
       "    </tr>\n",
       "    <tr>\n",
       "      <th>4</th>\n",
       "      <td>CL</td>\n",
       "      <td>143.0</td>\n",
       "    </tr>\n",
       "  </tbody>\n",
       "</table>\n",
       "</div>"
      ],
      "text/plain": [
       "  Status  Copper\n",
       "0      D   156.0\n",
       "1      C    54.0\n",
       "2      D   210.0\n",
       "3      D    64.0\n",
       "4     CL   143.0"
      ]
     },
     "execution_count": 81,
     "metadata": {},
     "output_type": "execute_result"
    }
   ],
   "source": [
    "df.head()"
   ]
  },
  {
   "cell_type": "code",
   "execution_count": 82,
   "id": "3d48cbc1",
   "metadata": {},
   "outputs": [
    {
     "data": {
      "text/plain": [
       "array(['D', 'C', 'CL'], dtype=object)"
      ]
     },
     "execution_count": 82,
     "metadata": {},
     "output_type": "execute_result"
    }
   ],
   "source": [
    "df = data[['Status','Copper']]\n",
    "df = df.dropna(subset=['Status','Copper'])\n",
    "category = df.Status.unique()\n",
    "category"
   ]
  },
  {
   "cell_type": "code",
   "execution_count": 83,
   "id": "07decdcd",
   "metadata": {},
   "outputs": [
    {
     "name": "stdout",
     "output_type": "stream",
     "text": [
      "Levene's test statistic: 13.418344460772083\n",
      "p-value: 2.5897734172226775e-06\n",
      "Reject the null hypothesis: Variances are not homogeneous between groups.\n"
     ]
    }
   ],
   "source": [
    "# Levene's test\n",
    "statistic, p_value = levene(*[df.Copper[df.Status == cat] for cat in category])\n",
    "print(\"Levene's test statistic:\", statistic)\n",
    "print(\"p-value:\", p_value)\n",
    "\n",
    "alpha = 0.05\n",
    "if p_value < alpha:\n",
    "    print(\"Reject the null hypothesis: Variances are not homogeneous between groups.\")\n",
    "else:\n",
    "    print(\"Fail to reject the null hypothesis: Variances are homogeneous between groups.\")"
   ]
  },
  {
   "cell_type": "markdown",
   "id": "0d148b01",
   "metadata": {},
   "source": [
    "Plot menunjukkan bahwa data tidak terdistribusi secara normal, terlihat dari titik-titik yang menyimpang dari garis lurus."
   ]
  },
  {
   "cell_type": "code",
   "execution_count": 84,
   "id": "24c85fc6",
   "metadata": {},
   "outputs": [
    {
     "data": {
      "image/png": "[encoded data removed]",
      "text/plain": [
       "<Figure size 640x480 with 1 Axes>"
      ]
     },
     "metadata": {},
     "output_type": "display_data"
    }
   ],
   "source": [
    "qqplot(df['Copper'],line='s')\n",
    "plt.show()"
   ]
  },
  {
   "cell_type": "markdown",
   "id": "0db51d32",
   "metadata": {},
   "source": [
    "Karena asumsi normalitas dan homogenitas varians tidak terpenuhi, dilakukan transformasi logaritmik pada data Copper menggunakan metode Box-Cox. Transformasi ini bertujuan untuk menormalkan distribusi data dan menyeragamkan varians."
   ]
  },
  {
   "cell_type": "code",
   "execution_count": 85,
   "id": "9cf9c1f1",
   "metadata": {},
   "outputs": [],
   "source": [
    "df['Copper_log_t']=stats.boxcox(df['Copper'], 0)"
   ]
  },
  {
   "cell_type": "markdown",
   "id": "2d657a28",
   "metadata": {},
   "source": [
    "Plot menunjukkan distribusi Copper setelah transformasi Box-Cox lebih mendekati distribusi normal."
   ]
  },
  {
   "cell_type": "code",
   "execution_count": 86,
   "id": "ae0b7c7f",
   "metadata": {},
   "outputs": [
    {
     "data": {
      "image/png": "[encoded data removed]",
      "text/plain": [
       "<Figure size 640x480 with 1 Axes>"
      ]
     },
     "metadata": {},
     "output_type": "display_data"
    }
   ],
   "source": [
    "qqplot(df['Copper_log_t'],line='s')\n",
    "plt.show()"
   ]
  },
  {
   "cell_type": "markdown",
   "id": "afe10e99",
   "metadata": {},
   "source": [
    "Uji Levene kembali dilakukan pada data Copper yang telah ditransformasi, dan hipotesis nol diterima. Ini berarti varians data antar kelompok sudah homogen, dan asumsi ANOVA terpenuhi.\n"
   ]
  },
  {
   "cell_type": "code",
   "execution_count": 87,
   "id": "ec054376",
   "metadata": {},
   "outputs": [
    {
     "name": "stdout",
     "output_type": "stream",
     "text": [
      "Levene's test statistic: 0.6685194408068202\n",
      "p-value: 0.5132111633577463\n",
      "Fail to reject the null hypothesis: Variances are homogeneous between groups.\n"
     ]
    }
   ],
   "source": [
    "# Levene's test\n",
    "statistic, p_value = levene(*[df.Copper_log_t[df.Status == cat] for cat in category])\n",
    "print(\"Levene's test statistic:\", statistic)\n",
    "print(\"p-value:\", p_value)\n",
    "\n",
    "alpha = 0.05\n",
    "if p_value < alpha:\n",
    "    print(\"Reject the null hypothesis: Variances are not homogeneous between groups.\")\n",
    "else:\n",
    "    print(\"Fail to reject the null hypothesis: Variances are homogeneous between groups.\")"
   ]
  },
  {
   "cell_type": "markdown",
   "id": "2e45b4f0",
   "metadata": {},
   "source": [
    "Setelah asumsi terpenuhi, uji ANOVA dilakukan pada data yang telah ditransformasi untuk membandingkan rata-rata kadar tembaga di antara ketiga kelompok status pasien. Diperoleh p-value yang sangat signifikan (2.5385e-14), yang jauh lebih kecil dari 0.05. Sehingga, terdapat perbedaan rata-rata kadar tembaga yang signifikan secara statistik di antara setidaknya dua dari tiga kelompok status pasien."
   ]
  },
  {
   "cell_type": "code",
   "execution_count": 88,
   "id": "416fabc2",
   "metadata": {},
   "outputs": [
    {
     "name": "stdout",
     "output_type": "stream",
     "text": [
      "One-way ANOVA is significant (p-value = 2.5385e-14)\n",
      "Artinya, setidaknya ada satu grup yang memiliki rata-rata Copper yang berbeda secara signifikan.\n"
     ]
    }
   ],
   "source": [
    "Stat,p = f_oneway( df['Copper_log_t'][df['Status'] == 'D'],\n",
    "     df['Copper_log_t'][df['Status'] == 'C'],\n",
    "     df['Copper_log_t'][df['Status'] == 'CL'],\n",
    "                 )\n",
    "\n",
    "if p < 0.05:\n",
    "    print(f\"One-way ANOVA is significant (p-value = {p:.4e})\")\n",
    "    print(\"Artinya, setidaknya ada satu grup yang memiliki rata-rata Copper yang berbeda secara signifikan.\")\n",
    "else:\n",
    "    print(f\"One-way ANOVA is not significant (p-value = {p:.4f})\")"
   ]
  },
  {
   "cell_type": "markdown",
   "id": "c5c6d5c4",
   "metadata": {},
   "source": [
    "Uji ANOVA hanya memberi tahu bahwa ada perbedaan, tetapi tidak secara spesifik kelompok mana yang berbeda. Untuk itu, dilakukan uji lanjutan Tukey HSD."
   ]
  },
  {
   "cell_type": "code",
   "execution_count": 89,
   "id": "8ed77422",
   "metadata": {},
   "outputs": [
    {
     "name": "stdout",
     "output_type": "stream",
     "text": [
      "Multiple Comparison of Means - Tukey HSD, FWER=0.05\n",
      "===================================================\n",
      "group1 group2 meandiff p-adj   lower  upper  reject\n",
      "---------------------------------------------------\n",
      "     C     CL   0.6587 0.0009  0.2324 1.0849   True\n",
      "     C      D    0.717    0.0  0.5083 0.9257   True\n",
      "    CL      D   0.0583 0.9463 -0.3754  0.492  False\n",
      "---------------------------------------------------\n"
     ]
    }
   ],
   "source": [
    "# Tukey\n",
    "tukey = pairwise_tukeyhsd(endog=df['Copper_log_t'], groups=df['Status'],alpha=0.05)\n",
    "print(tukey)"
   ]
  },
  {
   "cell_type": "markdown",
   "id": "a44e692a",
   "metadata": {},
   "source": [
    "Pasien dalam kelompok C (Censored) memiliki rata-rata kadar tembaga yang berbeda secara signifikan dibandingkan dengan pasien dalam kelompok CL (transplantasi hati) dan kelompok D (meninggal). Namun, tidak ada perbedaan signifikan dalam rata-rata kadar tembaga antara kelompok pasien yang menjalani transplantasi hati (CL) dan yang meninggal (D)."
   ]
  }
 ],
 "metadata": {
  "kernelspec": {
   "display_name": "Python 3",
   "language": "python",
   "name": "python3"
  },
  "language_info": {
   "codemirror_mode": {
    "name": "ipython",
    "version": 3
   },
   "file_extension": ".py",
   "mimetype": "text/x-python",
   "name": "python",
   "nbconvert_exporter": "python",
   "pygments_lexer": "ipython3",
   "version": "3.12.10"
  }
 },
 "nbformat": 4,
 "nbformat_minor": 5
}
